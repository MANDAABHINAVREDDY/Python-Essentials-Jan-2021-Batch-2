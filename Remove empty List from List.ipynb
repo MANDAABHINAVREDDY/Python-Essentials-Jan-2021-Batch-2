{
 "cells": [
  {
   "cell_type": "code",
   "execution_count": null,
   "metadata": {},
   "outputs": [],
   "source": [
    "def sumu(n):\n",
    "    t=1\n",
    "    sum=0\n",
    "    while t<=n:\n",
    "        sum=t+sum\n",
    "        t=t+1\n",
    "    print(sum)\n",
    "sumu(int(input(\"1enter the number\")))"
   ]
  }
 ],
 "metadata": {
  "kernelspec": {
   "display_name": "Python 3",
   "language": "python",
   "name": "python3"
  },
  "language_info": {
   "codemirror_mode": {
    "name": "ipython",
    "version": 3
   },
   "file_extension": ".py",
   "mimetype": "text/x-python",
   "name": "python",
   "nbconvert_exporter": "python",
   "pygments_lexer": "ipython3",
   "version": "3.7.6"
  }
 },
 "nbformat": 4,
 "nbformat_minor": 4
}
