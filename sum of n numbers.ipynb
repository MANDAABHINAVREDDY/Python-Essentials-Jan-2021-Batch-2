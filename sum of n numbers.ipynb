def sumu(n):
    t=1
    sum=0
    while t<=n:
        sum=t+sum
        t=t+1
    print(sum)
sumu(int(input("1enter the number")))
