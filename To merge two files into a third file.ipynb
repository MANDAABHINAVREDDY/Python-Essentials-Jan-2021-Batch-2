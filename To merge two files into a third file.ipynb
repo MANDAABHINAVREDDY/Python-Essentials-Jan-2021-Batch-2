{
 "cells": [
  {
   "cell_type": "code",
   "execution_count": null,
   "metadata": {},
   "outputs": [],
   "source": [
    "a=input()\n",
    "b=input()\n",
    "\n",
    "data = data2 = \"\" \n",
    "\n",
    "with open(a) as fp: \n",
    "    data = fp.read() \n",
    "\n",
    "with open(b) as fp: \n",
    "    data2 = fp.read() \n",
    "\n",
    "data += \"\\n\"\n",
    "data += data2 \n",
    "\n",
    "with open ('file3.txt', 'w') as fp: \n",
    "    fp.write(data) "
   ]
  },
  {
   "cell_type": "code",
   "execution_count": null,
   "metadata": {},
   "outputs": [],
   "source": []
  }
 ],
 "metadata": {
  "kernelspec": {
   "display_name": "Python 3",
   "language": "python",
   "name": "python3"
  },
  "language_info": {
   "codemirror_mode": {
    "name": "ipython",
    "version": 3
   },
   "file_extension": ".py",
   "mimetype": "text/x-python",
   "name": "python",
   "nbconvert_exporter": "python",
   "pygments_lexer": "ipython3",
   "version": "3.7.6"
  }
 },
 "nbformat": 4,
 "nbformat_minor": 4
}
